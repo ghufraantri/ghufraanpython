{
  "nbformat": 4,
  "nbformat_minor": 0,
  "metadata": {
    "colab": {
      "name": "COST231.ipynb",
      "provenance": [],
      "include_colab_link": true
    },
    "kernelspec": {
      "name": "python3",
      "display_name": "Python 3"
    }
  },
  "cells": [
    {
      "cell_type": "markdown",
      "metadata": {
        "id": "view-in-github",
        "colab_type": "text"
      },
      "source": [
        "<a href=\"https://colab.research.google.com/github/ghufraantri/ghufraanpython/blob/main/Tugas%2014%20Ghufraan%20Tri%20Azhari_1101208506.ipynb\" target=\"_parent\"><img src=\"https://colab.research.google.com/assets/colab-badge.svg\" alt=\"Open In Colab\"/></a>"
      ]
    },
    {
      "cell_type": "code",
      "metadata": {
        "id": "ruHX9Pf-Feo2"
      },
      "source": [
        "import numpy as np\r\n",
        "import matplotlib.pyplot as plt"
      ],
      "execution_count": 2,
      "outputs": []
    },
    {
      "cell_type": "code",
      "metadata": {
        "id": "RLhMQKafFlyn",
        "outputId": "b6c08997-7ff1-42cb-9469-79b6b339769e",
        "colab": {
          "base_uri": "https://localhost:8080/",
          "height": 129
        }
      },
      "source": [
        "def cos(frek,tipe,ht,hr,d):\r\n",
        "  #frek = frekuensi (MHz)\r\n",
        "  #tipe = urban, suburban, open\r\n",
        "  #ht = tinggi tower (meter)\r\n",
        "  #hr = tinggi user (meter)\r\n",
        "  #d = jarak (meter)\r\n",
        "    if frek in range(150,1501):\r\n",
        "        Ca=69.55\r\n",
        "        Cb=26.16\r\n",
        "    elif frek in range(1501,2001):\r\n",
        "        Ca=46.3\r\n",
        "        Cb=33.9\r\n",
        "    \r\n",
        "    if tipe=='urban' :\r\n",
        "        Cm=0\r\n",
        "    elif tipe=='suburban' :\r\n",
        "        Cm= -2*((np.log10((frek/28)**2))-5.4)\r\n",
        "    elif tipe=='open' :\r\n",
        "        Cm= -4.78*(np.log10(frek))+18.33*(np.log10(frek))-40.94\r\n",
        "    else :\r\n",
        "        Cm='tipe salah'\r\n",
        "    \r\n",
        "    ahr = (1.1*np.log10(frek)-0.7)*hr-(1.56*np.log10(frek)-1.8)\r\n",
        "    Lp = Ca+(Cb*np.log10(frek))-(13.83*np.log(ht))-ahr+((44.9-6.55*np.log10(ht))*np.log10(d))-Cm\r\n",
        "    \r\n",
        "    return Lp\r\n",
        "\r\n",
        "    def PReceiver(Ptx, Lp, Gtx, Grx):\r\n",
        "  Prx = Ptx-Lp+Gtx+Grx\r\n",
        "  return Prx\r\n",
        "\r\n",
        "def SNR (Prx, Bandwidth):\r\n",
        "  no=-174+(10*np.log10(Bandwidth))\r\n",
        "  no=10**(no/10)\r\n",
        "  SNR= Prx/no\r\n",
        "  return SNR\r\n",
        "\r\n",
        "def Capacity (SNR, Bandwidth):\r\n",
        "  c=Bandwidth*np.log2(1+SNR)\r\n",
        "  return c"
      ],
      "execution_count": 3,
      "outputs": [
        {
          "output_type": "error",
          "ename": "IndentationError",
          "evalue": "ignored",
          "traceback": [
            "\u001b[0;36m  File \u001b[0;32m\"<ipython-input-3-a7460f488b05>\"\u001b[0;36m, line \u001b[0;32m29\u001b[0m\n\u001b[0;31m    Prx = Ptx-Lp+Gtx+Grx\u001b[0m\n\u001b[0m                        ^\u001b[0m\n\u001b[0;31mIndentationError\u001b[0m\u001b[0;31m:\u001b[0m unindent does not match any outer indentation level\n"
          ]
        }
      ]
    },
    {
      "cell_type": "code",
      "metadata": {
        "id": "sUoOF5TjFpF_",
        "outputId": "67d2c376-8a36-44a9-f41b-65912bbd579b",
        "colab": {
          "base_uri": "https://localhost:8080/",
          "height": 231
        }
      },
      "source": [
        "#Model Frekuensi 1800\r\n",
        "f=1800\r\n",
        "fa=900\r\n",
        "fb=700\r\n",
        "loca=\"urban\"\r\n",
        "locb=\"suburban\"\r\n",
        "locc= \"open\"\r\n",
        "tower=80\r\n",
        "user=1.5\r\n",
        "dmin=300\r\n",
        "dmax=1000\r\n",
        "N=200\r\n",
        "Ptx=30\r\n",
        "Ptx=Ptx*1000\r\n",
        "Ptx=10*np.log10(Ptx)\r\n",
        "Gtx=10\r\n",
        "Grx=2\r\n",
        "Bandwidth= 5000000\r\n",
        "\r\n",
        "#Perhitungang Daya Terima Berdasarkan Frekuensi\r\n",
        "d=np.random.randint(dmin,dmax,N)\r\n",
        "d=d[np.argsort(d)]\r\n",
        "a= cos(f,loca,tower,user,d)\r\n",
        "a=a[np.argsort(d)]\r\n",
        "a1= PReceiver(Ptx,a,Gtx,Grx)\r\n",
        "a1= 10**(a1/10)\r\n",
        "b= cos(fa,loca,tower,user,d)\r\n",
        "b=b[np.argsort(d)]\r\n",
        "b1= PReceiver(Ptx,b,Gtx,Grx)\r\n",
        "b1= 10**(b1/10)\r\n",
        "c= cos(fb,loca,tower,user,d)\r\n",
        "c=c[np.argsort(d)]\r\n",
        "c1= PReceiver(Ptx,c,Gtx,Grx)\r\n",
        "c1= 10**(c1/10)\r\n",
        "\r\n",
        "\r\n",
        "\r\n",
        "#Perhitungan Daya Terima Berdasarkan Lokasi\r\n",
        "aa= cos(f,loca,tower,user,d)\r\n",
        "aa=aa[np.argsort(d)]\r\n",
        "aa1= PReceiver(Ptx,aa,Gtx,Grx)\r\n",
        "aa1= 10**(aa1/10)\r\n",
        "bb= cos(f,locb,tower,user,d)\r\n",
        "bb=bb[np.argsort(d)]\r\n",
        "bb1= PReceiver(Ptx,bb,Gtx,Grx)\r\n",
        "bb1= 10**(bb1/10)\r\n",
        "cc= cos(f,locc,tower,user,d)\r\n",
        "cc=cc[np.argsort(d)]\r\n",
        "cc1= PReceiver(Ptx,cc,Gtx,Grx)\r\n",
        "cc1= 10**(cc1/10)\r\n",
        "\r\n",
        "#Perhitungan SNR Berdasarkan Frekuensi\r\n",
        "SNR1= SNR(a1,Bandwidth)\r\n",
        "SNR2= SNR(b1,Bandwidth)\r\n",
        "SNR3= SNR(c1,Bandwidth)\r\n",
        "\r\n",
        "#Perhitungan SNR Berdasarkan Lokasi\r\n",
        "SNR11= SNR(aa1,Bandwidth)\r\n",
        "SNR22= SNR(bb1,Bandwidth)\r\n",
        "SNR33= SNR(cc1,Bandwidth)\r\n",
        "\r\n",
        "#Perhitungan Capacity Berdasarkan Frekuensi\r\n",
        "ca1 = Capacity(SNR1,Bandwidth)\r\n",
        "ca2 = Capacity(SNR2,Bandwidth)\r\n",
        "ca3 = Capacity(SNR3,Bandwidth)\r\n",
        "\r\n",
        "#Perhitungan Capacity Berdasarkan Lokasi\r\n",
        "ca11 = Capacity(SNR11,Bandwidth)\r\n",
        "ca22 = Capacity(SNR22,Bandwidth)\r\n",
        "ca33 = Capacity(SNR33,Bandwidth)"
      ],
      "execution_count": 4,
      "outputs": [
        {
          "output_type": "error",
          "ename": "NameError",
          "evalue": "ignored",
          "traceback": [
            "\u001b[0;31m---------------------------------------------------------------------------\u001b[0m",
            "\u001b[0;31mNameError\u001b[0m                                 Traceback (most recent call last)",
            "\u001b[0;32m<ipython-input-4-7bd75809d89d>\u001b[0m in \u001b[0;36m<module>\u001b[0;34m()\u001b[0m\n\u001b[1;32m     21\u001b[0m \u001b[0md\u001b[0m\u001b[0;34m=\u001b[0m\u001b[0mnp\u001b[0m\u001b[0;34m.\u001b[0m\u001b[0mrandom\u001b[0m\u001b[0;34m.\u001b[0m\u001b[0mrandint\u001b[0m\u001b[0;34m(\u001b[0m\u001b[0mdmin\u001b[0m\u001b[0;34m,\u001b[0m\u001b[0mdmax\u001b[0m\u001b[0;34m,\u001b[0m\u001b[0mN\u001b[0m\u001b[0;34m)\u001b[0m\u001b[0;34m\u001b[0m\u001b[0;34m\u001b[0m\u001b[0m\n\u001b[1;32m     22\u001b[0m \u001b[0md\u001b[0m\u001b[0;34m=\u001b[0m\u001b[0md\u001b[0m\u001b[0;34m[\u001b[0m\u001b[0mnp\u001b[0m\u001b[0;34m.\u001b[0m\u001b[0margsort\u001b[0m\u001b[0;34m(\u001b[0m\u001b[0md\u001b[0m\u001b[0;34m)\u001b[0m\u001b[0;34m]\u001b[0m\u001b[0;34m\u001b[0m\u001b[0;34m\u001b[0m\u001b[0m\n\u001b[0;32m---> 23\u001b[0;31m \u001b[0ma\u001b[0m\u001b[0;34m=\u001b[0m \u001b[0mcos\u001b[0m\u001b[0;34m(\u001b[0m\u001b[0mf\u001b[0m\u001b[0;34m,\u001b[0m\u001b[0mloca\u001b[0m\u001b[0;34m,\u001b[0m\u001b[0mtower\u001b[0m\u001b[0;34m,\u001b[0m\u001b[0muser\u001b[0m\u001b[0;34m,\u001b[0m\u001b[0md\u001b[0m\u001b[0;34m)\u001b[0m\u001b[0;34m\u001b[0m\u001b[0;34m\u001b[0m\u001b[0m\n\u001b[0m\u001b[1;32m     24\u001b[0m \u001b[0ma\u001b[0m\u001b[0;34m=\u001b[0m\u001b[0ma\u001b[0m\u001b[0;34m[\u001b[0m\u001b[0mnp\u001b[0m\u001b[0;34m.\u001b[0m\u001b[0margsort\u001b[0m\u001b[0;34m(\u001b[0m\u001b[0md\u001b[0m\u001b[0;34m)\u001b[0m\u001b[0;34m]\u001b[0m\u001b[0;34m\u001b[0m\u001b[0;34m\u001b[0m\u001b[0m\n\u001b[1;32m     25\u001b[0m \u001b[0ma1\u001b[0m\u001b[0;34m=\u001b[0m \u001b[0mPReceiver\u001b[0m\u001b[0;34m(\u001b[0m\u001b[0mPtx\u001b[0m\u001b[0;34m,\u001b[0m\u001b[0ma\u001b[0m\u001b[0;34m,\u001b[0m\u001b[0mGtx\u001b[0m\u001b[0;34m,\u001b[0m\u001b[0mGrx\u001b[0m\u001b[0;34m)\u001b[0m\u001b[0;34m\u001b[0m\u001b[0;34m\u001b[0m\u001b[0m\n",
            "\u001b[0;31mNameError\u001b[0m: name 'cos' is not defined"
          ]
        }
      ]
    },
    {
      "cell_type": "code",
      "metadata": {
        "id": "8KZRdyVCIaqE",
        "outputId": "17e1b859-da52-4252-978e-f0e3286ca927",
        "colab": {
          "base_uri": "https://localhost:8080/",
          "height": 495
        }
      },
      "source": [
        "plt.figure(\"Frekuensi\")\r\n",
        "plt.title(\"DAYA TERIMA (Frekuensi 1800 MHz)\")\r\n",
        "plt.plot(d,aa1,label=\"Urban\")\r\n",
        "plt.plot(d,bb1,label=\"Suburban\")\r\n",
        "plt.plot(d,cc1,label=\"Open\")\r\n",
        "plt.legend()\r\n",
        "plt.xlabel(\"Jarak User (m)\")\r\n",
        "plt.ylabel(\"Daya Terima (mW)\")\r\n",
        "\r\n",
        "plt.figure(\"Mode Urban\")\r\n",
        "plt.title(\"DAYA TERIMA (URBAN)\")\r\n",
        "plt.plot(d,a1,label=\"1800 Mhz\")\r\n",
        "plt.plot(d,b1,label=\"900 Mhz\")\r\n",
        "plt.plot(d,c1,label=\"700 Mhz\")\r\n",
        "plt.legend()\r\n",
        "plt.xlabel(\"Jarak User (m)\")\r\n",
        "plt.ylabel(\"Daya Terima (mW)\")\r\n",
        "plt.show()"
      ],
      "execution_count": 6,
      "outputs": [
        {
          "output_type": "error",
          "ename": "NameError",
          "evalue": "ignored",
          "traceback": [
            "\u001b[0;31m---------------------------------------------------------------------------\u001b[0m",
            "\u001b[0;31mNameError\u001b[0m                                 Traceback (most recent call last)",
            "\u001b[0;32m<ipython-input-6-d45c35a11da2>\u001b[0m in \u001b[0;36m<module>\u001b[0;34m()\u001b[0m\n\u001b[1;32m      1\u001b[0m \u001b[0mplt\u001b[0m\u001b[0;34m.\u001b[0m\u001b[0mfigure\u001b[0m\u001b[0;34m(\u001b[0m\u001b[0;34m\"Frekuensi\"\u001b[0m\u001b[0;34m)\u001b[0m\u001b[0;34m\u001b[0m\u001b[0;34m\u001b[0m\u001b[0m\n\u001b[1;32m      2\u001b[0m \u001b[0mplt\u001b[0m\u001b[0;34m.\u001b[0m\u001b[0mtitle\u001b[0m\u001b[0;34m(\u001b[0m\u001b[0;34m\"DAYA TERIMA (Frekuensi 1800 MHz)\"\u001b[0m\u001b[0;34m)\u001b[0m\u001b[0;34m\u001b[0m\u001b[0;34m\u001b[0m\u001b[0m\n\u001b[0;32m----> 3\u001b[0;31m \u001b[0mplt\u001b[0m\u001b[0;34m.\u001b[0m\u001b[0mplot\u001b[0m\u001b[0;34m(\u001b[0m\u001b[0md\u001b[0m\u001b[0;34m,\u001b[0m\u001b[0maa1\u001b[0m\u001b[0;34m,\u001b[0m\u001b[0mlabel\u001b[0m\u001b[0;34m=\u001b[0m\u001b[0;34m\"Urban\"\u001b[0m\u001b[0;34m)\u001b[0m\u001b[0;34m\u001b[0m\u001b[0;34m\u001b[0m\u001b[0m\n\u001b[0m\u001b[1;32m      4\u001b[0m \u001b[0mplt\u001b[0m\u001b[0;34m.\u001b[0m\u001b[0mplot\u001b[0m\u001b[0;34m(\u001b[0m\u001b[0md\u001b[0m\u001b[0;34m,\u001b[0m\u001b[0mbb1\u001b[0m\u001b[0;34m,\u001b[0m\u001b[0mlabel\u001b[0m\u001b[0;34m=\u001b[0m\u001b[0;34m\"Suburban\"\u001b[0m\u001b[0;34m)\u001b[0m\u001b[0;34m\u001b[0m\u001b[0;34m\u001b[0m\u001b[0m\n\u001b[1;32m      5\u001b[0m \u001b[0mplt\u001b[0m\u001b[0;34m.\u001b[0m\u001b[0mplot\u001b[0m\u001b[0;34m(\u001b[0m\u001b[0md\u001b[0m\u001b[0;34m,\u001b[0m\u001b[0mcc1\u001b[0m\u001b[0;34m,\u001b[0m\u001b[0mlabel\u001b[0m\u001b[0;34m=\u001b[0m\u001b[0;34m\"Open\"\u001b[0m\u001b[0;34m)\u001b[0m\u001b[0;34m\u001b[0m\u001b[0;34m\u001b[0m\u001b[0m\n",
            "\u001b[0;31mNameError\u001b[0m: name 'aa1' is not defined"
          ]
        },
        {
          "output_type": "display_data",
          "data": {
            "image/png": "[encoded data removed]",
            "text/plain": [
              "<Figure size 432x288 with 1 Axes>"
            ]
          },
          "metadata": {
            "tags": [],
            "needs_background": "light"
          }
        }
      ]
    },
    {
      "cell_type": "code",
      "metadata": {
        "id": "9WI4A0JYIhI1",
        "outputId": "0b83569a-7ae5-4c05-ee73-82d63843d803",
        "colab": {
          "base_uri": "https://localhost:8080/",
          "height": 495
        }
      },
      "source": [
        "plt.figure(\"SNR Frekuensi\")\r\n",
        "plt.title(\"SNR (Frekuensi)\")\r\n",
        "plt.plot(d,SNR11,label=\"Urban\")\r\n",
        "plt.plot(d,SNR22,label=\"Suburban\")\r\n",
        "plt.plot(d,SNR33,label=\"Open\")\r\n",
        "plt.legend()\r\n",
        "plt.xlabel(\"Jarak User (m)\")\r\n",
        "plt.ylabel(\"SNR\")\r\n",
        "\r\n",
        "plt.figure(\"SNR Urban\")\r\n",
        "plt.title(\"SNR (URBAN)\")\r\n",
        "plt.plot(d,SNR1,label=\"1800 Mhz\")\r\n",
        "plt.plot(d,SNR2,label=\"900 Mhz\")\r\n",
        "plt.plot(d,SNR3,label=\"700 Mhz\")\r\n",
        "plt.legend()\r\n",
        "plt.xlabel(\"Jarak User (m)\")\r\n",
        "plt.ylabel(\"SNR\")\r\n",
        "plt.show()"
      ],
      "execution_count": 7,
      "outputs": [
        {
          "output_type": "error",
          "ename": "NameError",
          "evalue": "ignored",
          "traceback": [
            "\u001b[0;31m---------------------------------------------------------------------------\u001b[0m",
            "\u001b[0;31mNameError\u001b[0m                                 Traceback (most recent call last)",
            "\u001b[0;32m<ipython-input-7-53a9bf706a5d>\u001b[0m in \u001b[0;36m<module>\u001b[0;34m()\u001b[0m\n\u001b[1;32m      1\u001b[0m \u001b[0mplt\u001b[0m\u001b[0;34m.\u001b[0m\u001b[0mfigure\u001b[0m\u001b[0;34m(\u001b[0m\u001b[0;34m\"SNR Frekuensi\"\u001b[0m\u001b[0;34m)\u001b[0m\u001b[0;34m\u001b[0m\u001b[0;34m\u001b[0m\u001b[0m\n\u001b[1;32m      2\u001b[0m \u001b[0mplt\u001b[0m\u001b[0;34m.\u001b[0m\u001b[0mtitle\u001b[0m\u001b[0;34m(\u001b[0m\u001b[0;34m\"SNR (Frekuensi)\"\u001b[0m\u001b[0;34m)\u001b[0m\u001b[0;34m\u001b[0m\u001b[0;34m\u001b[0m\u001b[0m\n\u001b[0;32m----> 3\u001b[0;31m \u001b[0mplt\u001b[0m\u001b[0;34m.\u001b[0m\u001b[0mplot\u001b[0m\u001b[0;34m(\u001b[0m\u001b[0md\u001b[0m\u001b[0;34m,\u001b[0m\u001b[0mSNR11\u001b[0m\u001b[0;34m,\u001b[0m\u001b[0mlabel\u001b[0m\u001b[0;34m=\u001b[0m\u001b[0;34m\"Urban\"\u001b[0m\u001b[0;34m)\u001b[0m\u001b[0;34m\u001b[0m\u001b[0;34m\u001b[0m\u001b[0m\n\u001b[0m\u001b[1;32m      4\u001b[0m \u001b[0mplt\u001b[0m\u001b[0;34m.\u001b[0m\u001b[0mplot\u001b[0m\u001b[0;34m(\u001b[0m\u001b[0md\u001b[0m\u001b[0;34m,\u001b[0m\u001b[0mSNR22\u001b[0m\u001b[0;34m,\u001b[0m\u001b[0mlabel\u001b[0m\u001b[0;34m=\u001b[0m\u001b[0;34m\"Suburban\"\u001b[0m\u001b[0;34m)\u001b[0m\u001b[0;34m\u001b[0m\u001b[0;34m\u001b[0m\u001b[0m\n\u001b[1;32m      5\u001b[0m \u001b[0mplt\u001b[0m\u001b[0;34m.\u001b[0m\u001b[0mplot\u001b[0m\u001b[0;34m(\u001b[0m\u001b[0md\u001b[0m\u001b[0;34m,\u001b[0m\u001b[0mSNR33\u001b[0m\u001b[0;34m,\u001b[0m\u001b[0mlabel\u001b[0m\u001b[0;34m=\u001b[0m\u001b[0;34m\"Open\"\u001b[0m\u001b[0;34m)\u001b[0m\u001b[0;34m\u001b[0m\u001b[0;34m\u001b[0m\u001b[0m\n",
            "\u001b[0;31mNameError\u001b[0m: name 'SNR11' is not defined"
          ]
        },
        {
          "output_type": "display_data",
          "data": {
            "image/png": "[encoded data removed]",
            "text/plain": [
              "<Figure size 432x288 with 1 Axes>"
            ]
          },
          "metadata": {
            "tags": [],
            "needs_background": "light"
          }
        }
      ]
    },
    {
      "cell_type": "code",
      "metadata": {
        "id": "EvxXg-obIloZ",
        "outputId": "41a5231b-fc14-4172-e985-bd22c8be16b4",
        "colab": {
          "base_uri": "https://localhost:8080/",
          "height": 495
        }
      },
      "source": [
        "plt.figure(\"Capacity Frekuensi\")\r\n",
        "plt.title(\"Capacity (Frekuensi)\")\r\n",
        "plt.plot(d,ca11,label=\"Urban\")\r\n",
        "plt.plot(d,ca22,label=\"Suburban\")\r\n",
        "plt.plot(d,ca33,label=\"Open\")\r\n",
        "plt.legend()\r\n",
        "plt.xlabel(\"Jarak User (m)\")\r\n",
        "plt.ylabel(\"Capacity\")\r\n",
        "\r\n",
        "plt.figure(\"Capacity Urban\")\r\n",
        "plt.title(\"Capacity (URBAN)\")\r\n",
        "plt.plot(d,ca1,label=\"1800 Mhz\")\r\n",
        "plt.plot(d,ca2,label=\"900 Mhz\")\r\n",
        "plt.plot(d,ca3,label=\"700 Mhz\")\r\n",
        "plt.legend()\r\n",
        "plt.xlabel(\"Jarak User (m)\")\r\n",
        "plt.ylabel(\"Capacity\")\r\n",
        "plt.show()"
      ],
      "execution_count": 8,
      "outputs": [
        {
          "output_type": "error",
          "ename": "NameError",
          "evalue": "ignored",
          "traceback": [
            "\u001b[0;31m---------------------------------------------------------------------------\u001b[0m",
            "\u001b[0;31mNameError\u001b[0m                                 Traceback (most recent call last)",
            "\u001b[0;32m<ipython-input-8-9b28a794dcb7>\u001b[0m in \u001b[0;36m<module>\u001b[0;34m()\u001b[0m\n\u001b[1;32m      1\u001b[0m \u001b[0mplt\u001b[0m\u001b[0;34m.\u001b[0m\u001b[0mfigure\u001b[0m\u001b[0;34m(\u001b[0m\u001b[0;34m\"Capacity Frekuensi\"\u001b[0m\u001b[0;34m)\u001b[0m\u001b[0;34m\u001b[0m\u001b[0;34m\u001b[0m\u001b[0m\n\u001b[1;32m      2\u001b[0m \u001b[0mplt\u001b[0m\u001b[0;34m.\u001b[0m\u001b[0mtitle\u001b[0m\u001b[0;34m(\u001b[0m\u001b[0;34m\"Capacity (Frekuensi)\"\u001b[0m\u001b[0;34m)\u001b[0m\u001b[0;34m\u001b[0m\u001b[0;34m\u001b[0m\u001b[0m\n\u001b[0;32m----> 3\u001b[0;31m \u001b[0mplt\u001b[0m\u001b[0;34m.\u001b[0m\u001b[0mplot\u001b[0m\u001b[0;34m(\u001b[0m\u001b[0md\u001b[0m\u001b[0;34m,\u001b[0m\u001b[0mca11\u001b[0m\u001b[0;34m,\u001b[0m\u001b[0mlabel\u001b[0m\u001b[0;34m=\u001b[0m\u001b[0;34m\"Urban\"\u001b[0m\u001b[0;34m)\u001b[0m\u001b[0;34m\u001b[0m\u001b[0;34m\u001b[0m\u001b[0m\n\u001b[0m\u001b[1;32m      4\u001b[0m \u001b[0mplt\u001b[0m\u001b[0;34m.\u001b[0m\u001b[0mplot\u001b[0m\u001b[0;34m(\u001b[0m\u001b[0md\u001b[0m\u001b[0;34m,\u001b[0m\u001b[0mca22\u001b[0m\u001b[0;34m,\u001b[0m\u001b[0mlabel\u001b[0m\u001b[0;34m=\u001b[0m\u001b[0;34m\"Suburban\"\u001b[0m\u001b[0;34m)\u001b[0m\u001b[0;34m\u001b[0m\u001b[0;34m\u001b[0m\u001b[0m\n\u001b[1;32m      5\u001b[0m \u001b[0mplt\u001b[0m\u001b[0;34m.\u001b[0m\u001b[0mplot\u001b[0m\u001b[0;34m(\u001b[0m\u001b[0md\u001b[0m\u001b[0;34m,\u001b[0m\u001b[0mca33\u001b[0m\u001b[0;34m,\u001b[0m\u001b[0mlabel\u001b[0m\u001b[0;34m=\u001b[0m\u001b[0;34m\"Open\"\u001b[0m\u001b[0;34m)\u001b[0m\u001b[0;34m\u001b[0m\u001b[0;34m\u001b[0m\u001b[0m\n",
            "\u001b[0;31mNameError\u001b[0m: name 'ca11' is not defined"
          ]
        },
        {
          "output_type": "display_data",
          "data": {
            "image/png": "[encoded data removed]",
            "text/plain": [
              "<Figure size 432x288 with 1 Axes>"
            ]
          },
          "metadata": {
            "tags": [],
            "needs_background": "light"
          }
        }
      ]
    }
  ]
}